{
 "cells": [
  {
   "cell_type": "markdown",
   "metadata": {},
   "source": [
    "##Question1.1"
   ]
  },
  {
   "cell_type": "code",
   "execution_count": 6,
   "metadata": {},
   "outputs": [
    {
     "name": "stdout",
     "output_type": "stream",
     "text": [
      "a = 7\n",
      "b = 24\n",
      "c = 25\n",
      "area : 84.0\n"
     ]
    }
   ],
   "source": [
    "class poly:\n",
    "    def __init__(self, a, b, c):\n",
    "        self.a = float(a)\n",
    "        self.b = float(b)\n",
    "        self.c = float(c)\n",
    "        self.area = 0\n",
    "\n",
    "class triangle(poly):\n",
    "    def __init__(self, a, b, c):\n",
    "        poly.__init__(self, a, b, c)\n",
    "\n",
    "    def calculate_area(self):\n",
    "        s = (self.a + self.b + self.c) / 2\n",
    "        self.area = float((s * (s - self.a) * (s - self.b) * (s - self.c))) ** 0.5\n",
    "\n",
    "    def get_area(self):\n",
    "        return self.area     \n",
    "\n",
    "a, b, c = input(\"a = \"), input(\"b = \"), input(\"c = \")\n",
    "\n",
    "t = triangle(a, b, c)\n",
    "t.calculate_area()\n",
    "print(\"area : {}\".format(t.get_area()))"
   ]
  },
  {
   "cell_type": "markdown",
   "metadata": {},
   "source": [
    "##Question 1.2"
   ]
  },
  {
   "cell_type": "code",
   "execution_count": 8,
   "metadata": {},
   "outputs": [
    {
     "name": "stdout",
     "output_type": "stream",
     "text": [
      "Enter words sep by commahey,hi,bye,wow,awesome\n",
      "Enter the no to check length2\n",
      "['hey', 'bye', 'wow', 'awesome']\n"
     ]
    }
   ],
   "source": [
    "def count_no_words(list2,intg):\n",
    "    ans=[]\n",
    "    for i in range(len(list2)):\n",
    "        if(len(list2[i])>intg):\n",
    "            ans.append(list2[i])\n",
    "    print(ans)\n",
    "\n",
    "list1 = input(\"Enter words sep by comma\")\n",
    "list2 =  list1.split(\",\")\n",
    "list2\n",
    "\n",
    "def main():\n",
    "    global list2,intg\n",
    "    intg=int(input(\"Enter the no to check length\"))\n",
    "    count_no_words(list2,intg)\n",
    "    \n",
    "main()\n",
    "    \n"
   ]
  },
  {
   "cell_type": "markdown",
   "metadata": {},
   "source": [
    "##Question 2.1"
   ]
  },
  {
   "cell_type": "code",
   "execution_count": 10,
   "metadata": {},
   "outputs": [
    {
     "name": "stdout",
     "output_type": "stream",
     "text": [
      "Enter words sep by commahey,hi,bye,awesome\n",
      "[3, 2, 3, 7]\n"
     ]
    }
   ],
   "source": [
    "def map_words_intg(list2):\n",
    "    ans=[]\n",
    "    for i in list2:\n",
    "        ans.append(int(len(i)))\n",
    "    print(ans)\n",
    "\n",
    "list1 = input(\"Enter words sep by comma \")\n",
    "list2= list1.split(\",\")\n",
    "def main():\n",
    "    global list2\n",
    "    map_words_intg(list2)\n",
    "    \n",
    "main()"
   ]
  },
  {
   "cell_type": "code",
   "execution_count": 14,
   "metadata": {},
   "outputs": [
    {
     "name": "stdout",
     "output_type": "stream",
     "text": [
      "Enter a characterv\n",
      "Not vowel\n"
     ]
    }
   ],
   "source": [
    "def check_vowel(c):\n",
    "    if c=='a' or c=='e' or c=='i' or c=='o' or c=='u':\n",
    "        print(\"Vowel\")\n",
    "    else:\n",
    "        print(\"Not vowel\")\n",
    "check_vowel(input(\"Enter a character\"))"
   ]
  },
  {
   "cell_type": "code",
   "execution_count": null,
   "metadata": {},
   "outputs": [],
   "source": []
  }
 ],
 "metadata": {
  "kernelspec": {
   "display_name": "Python 3",
   "language": "python",
   "name": "python3"
  },
  "language_info": {
   "codemirror_mode": {
    "name": "ipython",
    "version": 3
   },
   "file_extension": ".py",
   "mimetype": "text/x-python",
   "name": "python",
   "nbconvert_exporter": "python",
   "pygments_lexer": "ipython3",
   "version": "3.7.3"
  }
 },
 "nbformat": 4,
 "nbformat_minor": 4
}
