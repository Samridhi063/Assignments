{
 "cells": [
  {
   "cell_type": "code",
   "execution_count": 1,
   "metadata": {},
   "outputs": [],
   "source": [
    "import numpy as np"
   ]
  },
  {
   "cell_type": "markdown",
   "metadata": {},
   "source": [
    "##Question1"
   ]
  },
  {
   "cell_type": "code",
   "execution_count": 8,
   "metadata": {},
   "outputs": [],
   "source": [
    "def vandermole(inpvector,no_col,increasing=False):\n",
    "    if not increasing:\n",
    "        op_mat=np.array([x**(no_col-1-i) for x in inpvector for i in range(no_col)]).reshape(inpvector.size,no_col)\n",
    "    elif increasing:\n",
    "        op_mat=np.array([x**i for x in inpvector for i in range(no_col)]).reshape(inpvector.size,no_col)\n",
    "    return op_mat"
   ]
  },
  {
   "cell_type": "code",
   "execution_count": 9,
   "metadata": {},
   "outputs": [],
   "source": [
    "inpvector=np.array([1,2,3,4,5])\n",
    "no_col=3\n",
    "op_mat_desc=vandermole(inpvector,no_col,False)\n",
    "op_mat_inc=vandermole(inpvector,no_col,True)"
   ]
  },
  {
   "cell_type": "code",
   "execution_count": 11,
   "metadata": {},
   "outputs": [
    {
     "name": "stdout",
     "output_type": "stream",
     "text": [
      "Input array  [1 2 3 4 5]\n",
      "No of cols mat should have:  3\n",
      "Vandermole matrix in descending order of power: \n",
      " [[ 1  1  1]\n",
      " [ 4  2  1]\n",
      " [ 9  3  1]\n",
      " [16  4  1]\n",
      " [25  5  1]]\n",
      "Vandermole matrix in descending order of power: \n",
      " [[ 1  1  1]\n",
      " [ 1  2  4]\n",
      " [ 1  3  9]\n",
      " [ 1  4 16]\n",
      " [ 1  5 25]]\n"
     ]
    }
   ],
   "source": [
    "print(\"Input array \",inpvector)\n",
    "print(\"No of cols mat should have: \",no_col)\n",
    "print(\"Vandermole matrix in descending order of power: \\n\",op_mat_desc)\n",
    "print(\"Vandermole matrix in descending order of power: \\n\",op_mat_inc)"
   ]
  },
  {
   "cell_type": "markdown",
   "metadata": {},
   "source": [
    "##Question2\n"
   ]
  },
  {
   "cell_type": "code",
   "execution_count": 30,
   "metadata": {},
   "outputs": [],
   "source": [
    "def mov_avg(inp,win_size):\n",
    "    ans=0\n",
    "   ## print(inp)\n",
    "    for i in range(0,win_size):\n",
    "        ans=ans+inp[i]\n",
    "    print(ans/win_size)"
   ]
  },
  {
   "cell_type": "code",
   "execution_count": 31,
   "metadata": {},
   "outputs": [
    {
     "name": "stdout",
     "output_type": "stream",
     "text": [
      "5.0\n"
     ]
    }
   ],
   "source": [
    "test=np.array([3, 5, 7, 2, 8, 10, 11, 65, 72, 81, 99, 100, 150])\n",
    "mov_avg(test,3)"
   ]
  },
  {
   "cell_type": "code",
   "execution_count": null,
   "metadata": {},
   "outputs": [],
   "source": []
  }
 ],
 "metadata": {
  "kernelspec": {
   "display_name": "Python 3",
   "language": "python",
   "name": "python3"
  },
  "language_info": {
   "codemirror_mode": {
    "name": "ipython",
    "version": 3
   },
   "file_extension": ".py",
   "mimetype": "text/x-python",
   "name": "python",
   "nbconvert_exporter": "python",
   "pygments_lexer": "ipython3",
   "version": "3.7.3"
  }
 },
 "nbformat": 4,
 "nbformat_minor": 4
}
